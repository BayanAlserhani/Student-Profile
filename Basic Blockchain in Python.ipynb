{
 "cells": [
  {
   "cell_type": "markdown",
   "id": "d63b2568-6ae3-47c8-9098-d5473d61293b",
   "metadata": {},
   "source": [
    "CLASS_1 \"BLOCKS\" "
   ]
  },
  {
   "cell_type": "code",
   "execution_count": 1,
   "id": "d6fdcacf-a5ae-4dbc-9ece-cd3f49e3bd42",
   "metadata": {},
   "outputs": [],
   "source": [
    "from hashlib import sha256\n",
    "import json\n",
    "import time"
   ]
  },
  {
   "cell_type": "code",
   "execution_count": 2,
   "id": "803a0c41-80b4-4636-acb6-f6910731a901",
   "metadata": {},
   "outputs": [],
   "source": [
    "# Todo:\n",
    "# define a class for our blocks called Block and decide on some properties and methods. \n",
    "# define each Block to have as properties: \n",
    "# An index: Some non-negative integer indicating which block number it is in the chain.\n",
    "# A list of records. Let's call these transactions.\n",
    "# A timestamp. Let's call this timestamp.\n",
    "# A hash of the current block. Let's call this property hash.\n",
    "# The backwards linking hash to the previous block. Let's call this previous_hash.\n",
    "# A number-used-once or nonce; as a property called nonce.\n",
    "\n",
    "# For methods we would like our Block class to have: \n",
    "# A constructor. (these are always __init__ in Python)\n",
    "# A method to compute it's hash. Let's call this compute_hash.\n",
    "\n",
    "    \n",
    "class Block:\n",
    "    def __init__(self,\n",
    "                index:int = 0,\n",
    "                transactions:list = [],\n",
    "                timestamp:int = 0,\n",
    "                cur_hash:str = \"\",\n",
    "                previous_hash:str = \"\",\n",
    "                nonce:int = 0):\n",
    "        \n",
    "        self.index:int = index\n",
    "        self.transactions:list = transactions\n",
    "        self.timestamp:int = timestamp\n",
    "        self.property_hash:str = cur_hash\n",
    "        self.previous_hash = previous_hash\n",
    "        self.nonce:int = nonce\n",
    "              "
   ]
  },
  {
   "cell_type": "code",
   "execution_count": 3,
   "id": "8ded328e-84dd-4506-ad86-3b7cc037eb21",
   "metadata": {},
   "outputs": [],
   "source": [
    "#todo for students: Use what you learned from your last assignment implement a sha256 solution to return the hex digest of the block_string, and return it. \n",
    "\n",
    "def compute_hash(self) -> str:\n",
    "    block_string = json.dumps(self.__dict__, sort_keys=True)\n",
    "    return hashlib.sha256(block_string.encode()).hexdigest() \n"
   ]
  },
  {
   "cell_type": "code",
   "execution_count": 4,
   "id": "8eae5940-0501-481d-8ca2-3937767aaed4",
   "metadata": {},
   "outputs": [],
   "source": [
    "# generating some transactions.\n",
    "\n",
    "tx_1 = {\n",
    "   \"addr_from\": \"3J98t1WpEZ73CNmQviecrnyiWrnqRhWNLy\",\n",
    "   \"addr_to\": \"1BvBMSEYstWetqTFn5Au4m4GFg7xJaNVN2\",   \n",
    "   \"amount\": 99.00\n",
    "}\n"
   ]
  },
  {
   "cell_type": "markdown",
   "id": "7668adcd-60cf-4a25-80e8-3bcfb4aca0ae",
   "metadata": {},
   "source": [
    "CLASS_2 \"BLOCKCHAIN\""
   ]
  },
  {
   "cell_type": "code",
   "execution_count": 19,
   "id": "cfca6dbe-3f61-472c-9bf9-b43d2ba12068",
   "metadata": {},
   "outputs": [],
   "source": [
    "# student todo: write the code for unconfirmed_transactions property. \n",
    "# student todo: write the code for chain property.\n",
    "# student todo: add and initialize the difficulty property.\n",
    "# create a genesis block.\n",
    "\n",
    "class Blockchain(): \n",
    "    \n",
    "    def __init__(self):\n",
    "        self.unconfirmed_transactions:list = []\n",
    "        self.chain:list = []    \n",
    "        self.difficulty:int = 2\n",
    "        self.create_genesis_block()    \n",
    "        \n",
    "      \n",
    "    def create_genesis_block(self):\n",
    "        genesis_block = Block(0, [], time.time(), \"0\")\n",
    "        genesis_block.hash = genesis_block.compute_hash()\n",
    "        self.chain.append(genesis_block) \n",
    "        \n"
   ]
  },
  {
   "cell_type": "code",
   "execution_count": 20,
   "id": "0c893cc4-f08a-4e6a-9f44-6ac565769464",
   "metadata": {},
   "outputs": [],
   "source": [
    "# todo define get_last_block(self) -> Block, hint: consider an index to the last element in your chain property.\n",
    "\n",
    "def get_last_block(self):\n",
    "    return self.chain[-1]"
   ]
  },
  {
   "cell_type": "code",
   "execution_count": 23,
   "id": "d4adc3ba-4884-4dfa-9abc-a9e6fc2d3dfe",
   "metadata": {},
   "outputs": [],
   "source": [
    "# todo define proof_of_work(self, block:Block) -> str, \n",
    "      # hint consider something similar to:\n",
    "      # computed_hash = how do we get the hash from a Block object?\n",
    "      # while not computed_hash.startswith('0' * self.difficulty):\n",
    "      #         block.nonce += 1\n",
    "      #         computed_hash = block.compute_hash()\n",
    "      # Don't forget to return the hash. \n",
    "        \n",
    "def proof_of_work(self, block:Block) -> str:\n",
    "    computed_hash = Block.computed_hash()\n",
    "    while not computed_hash.startswith('0' * self.difficulty):\n",
    "        block.nonce += 1\n",
    "        computed_hash = block.compute_hash()\n",
    "    return computed_hash "
   ]
  },
  {
   "cell_type": "code",
   "execution_count": 27,
   "id": "17e05710-3cf0-416f-a8ad-375953d717f9",
   "metadata": {},
   "outputs": [],
   "source": [
    "# todo define is_valid_proof(self, block:Block, block_hash:str) -> bool\n",
    "      # hint, we want to return true if block_hash.startswith('0' * self.difficulty)\n",
    "      # AND if block_hash is in fact the hash of our block (maybe use block.compute_hash())\n",
    "    \n",
    "def is_valid_proof(self, block:Block, block_hash:str) -> bool:\n",
    "    return (block_hash.startswith('0' * self.difficulty) and \n",
    "            block_hash == block.compute_hash())"
   ]
  },
  {
   "cell_type": "code",
   "execution_count": 29,
   "id": "804caa0e-2d51-4506-9d21-34f3cacf599d",
   "metadata": {},
   "outputs": [],
   "source": [
    "# todo define add_block(self, block:Block, proof:str) -> bool\n",
    "      # hints, we probably want to get the previous hash from get_last_block()\n",
    "      # Check if the previous hash matches the previous hash in the block argument. \n",
    "      # Make use of is_valid_proof for block and proof to check if someone is trying to do something sneaky. \n",
    "      # for both of the above, let's return False early and return control the calling function if the block is not valid.\n",
    "      # If we make it this far, we're in the clear. So let's add the hash to our block, append it to the chain, \n",
    "      # and return True. \n",
    "        \n",
    "def add_block(self, block:Block, proof:str) -> bool:\n",
    "    last_block = self.get_last_block()\n",
    "        \n",
    "    if last_block.hash != block.previous_hash:\n",
    "            return False\n",
    "    if not self.is_valid_proof(block, proof):\n",
    "            return False\n",
    "        \n",
    "    block.hash = proof\n",
    "    self.chain.append(block)\n",
    "        \n",
    "    return True"
   ]
  },
  {
   "cell_type": "code",
   "execution_count": 31,
   "id": "7f3aa696-fece-47ad-9bda-e5dd065d2335",
   "metadata": {},
   "outputs": [],
   "source": [
    "# todo, define add_new_transaction(self, transaction:dict) -> None\n",
    "      # Hint how do we append to a list? How do we do this for a property of our object (self). Ease one line function. \n",
    "        \n",
    "def add_new_transaction(self, transaction:dict) -> None:\n",
    "    self.unconfirmed_transactions.append(transaction)"
   ]
  },
  {
   "cell_type": "code",
   "execution_count": 33,
   "id": "8a0d3275-dd55-4906-986f-6948ac52154d",
   "metadata": {},
   "outputs": [],
   "source": [
    "# todo, define mine(self) -> int:\n",
    "      # Hints: do we need to continue if our mempool is empty? Maybe return -1 if so. \n",
    "      # consider retrieving the last block to a local variable make life easy. \n",
    "      # Let's make sure we use our Block constructor to create a new block with all the transactions we want to mine \n",
    "      # (all of them are fine)\n",
    "      # hint: Block(index=last_block.index + 1,\n",
    "      #                    transactions=self.unconfirmed_transactions,\n",
    "      #                    timestamp=time.time(),\n",
    "      #                    previous_hash=last_block.hash)\n",
    "      # Finally, let's be sure to use our handy proof_of_work function, add_block function, and to remember to reset our\n",
    "      # unconfirmed_transactions (our mem-pool), before returning our new block index; \n",
    "        \n",
    "def mine(self) -> int:\n",
    "    \n",
    "        if len (self.unconfirmed_transactions)<1:\n",
    "            return -1\n",
    "        last_block = self.get_last_block()\n",
    "        self.unconfirmed_transactions.append(tx_1)\n",
    "        \n",
    "        new_block = Block(index=last_block.index + 1,\n",
    "                          transactions=self.unconfirmed_transactions,\n",
    "                          timestamp=time.time(),\n",
    "                          previous_hash=last_block.hash)\n",
    "        \n",
    "        proof = self.proof_of_work(new_block)\n",
    "        \n",
    "        if not self.add_block(new_block, proof):\n",
    "            return -1\n",
    "        \n",
    "        self.unconfirmed_transactions = []\n",
    "        \n",
    "        return new_block.index\n",
    "    \n",
    "           "
   ]
  }
 ],
 "metadata": {
  "kernelspec": {
   "display_name": "Python 3",
   "language": "python",
   "name": "python3"
  },
  "language_info": {
   "codemirror_mode": {
    "name": "ipython",
    "version": 3
   },
   "file_extension": ".py",
   "mimetype": "text/x-python",
   "name": "python",
   "nbconvert_exporter": "python",
   "pygments_lexer": "ipython3",
   "version": "3.8.8"
  }
 },
 "nbformat": 4,
 "nbformat_minor": 5
}
